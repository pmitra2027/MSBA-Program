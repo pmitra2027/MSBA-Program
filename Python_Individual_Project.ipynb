{
 "cells": [
  {
   "cell_type": "markdown",
   "metadata": {},
   "source": [
    "Problem Statement:The dataset for the project consists of test scores and demographics of colleges and university in the United States.The objective is to extract insights by inspecting and comparing variables.\n"
   ]
  },
  {
   "cell_type": "code",
   "execution_count": null,
   "metadata": {},
   "outputs": [],
   "source": [
    "#Given below is the analysis strategy for the project:\n",
    "#1.Reading the data :For the csv file of the data, read_csv command will be used. For initializing the project, packages such pandas , matplotlin ,seaborn and numphy will be used.Mostly seaborn will be used for the visualization of the data as it is excellent for in-depth analysis and works well with dataframes.\n",
    "#2.Manipulating Data:In the given dataset , there are 2 exceptions present:\n",
    "#a. Privacy Supressed Values : For such type of values , we will replace them with zero.\n",
    "#b. Missing Values :We will fill such values with '0' or will filter them while using the given variable containing them in the operation.\n",
    "#3.Analysis: For analysis we will(psuedo code),\n",
    "   #a.Provide an index ,to enable faster retrieval of data\n",
    "   #b.Check whether all the columns are of correct datatype, if not change them\n",
    "   #c.Use head(),tail() for inspecting the data\n",
    "   #d.Use mathematical operations,group by and descriptive statistical formulas for providing insights regarding the data"
   ]
  },
  {
   "cell_type": "code",
   "execution_count": 67,
   "metadata": {},
   "outputs": [],
   "source": [
    "import pandas as ps\n",
    "from matplotlib import pyplot as plt\n",
    "import seaborn as sb\n",
    "import numpy as np"
   ]
  },
  {
   "cell_type": "code",
   "execution_count": 68,
   "metadata": {},
   "outputs": [],
   "source": [
    "#Reading in the file\n",
    "scores = ps.read_csv('CollegeScoreCard_Project.csv')"
   ]
  },
  {
   "cell_type": "code",
   "execution_count": 3,
   "metadata": {},
   "outputs": [],
   "source": [
    "#Setting index \n",
    "scores.set_index('id', inplace=True)"
   ]
  },
  {
   "cell_type": "code",
   "execution_count": 72,
   "metadata": {},
   "outputs": [],
   "source": [
    "#Replacing the Privacy Suprressed Values\n",
    "scores.replace({'PrivacySuppressed': 0}, inplace=True)"
   ]
  },
  {
   "cell_type": "code",
   "execution_count": 73,
   "metadata": {},
   "outputs": [
    {
     "data": {
      "text/html": [
       "<div>\n",
       "<style scoped>\n",
       "    .dataframe tbody tr th:only-of-type {\n",
       "        vertical-align: middle;\n",
       "    }\n",
       "\n",
       "    .dataframe tbody tr th {\n",
       "        vertical-align: top;\n",
       "    }\n",
       "\n",
       "    .dataframe thead th {\n",
       "        text-align: right;\n",
       "    }\n",
       "</style>\n",
       "<table border=\"1\" class=\"dataframe\">\n",
       "  <thead>\n",
       "    <tr style=\"text-align: right;\">\n",
       "      <th></th>\n",
       "      <th>id</th>\n",
       "      <th>name</th>\n",
       "      <th>city</th>\n",
       "      <th>state</th>\n",
       "      <th>men_only</th>\n",
       "      <th>women_only</th>\n",
       "      <th>act_med</th>\n",
       "      <th>sat_avg</th>\n",
       "      <th>enrollment</th>\n",
       "      <th>white</th>\n",
       "      <th>...</th>\n",
       "      <th>hispanic</th>\n",
       "      <th>asian</th>\n",
       "      <th>american_native</th>\n",
       "      <th>pacific_islander</th>\n",
       "      <th>multiple_race</th>\n",
       "      <th>non_resident</th>\n",
       "      <th>unknown_race</th>\n",
       "      <th>tuition</th>\n",
       "      <th>postgrad_income_10yr</th>\n",
       "      <th>completion_rate</th>\n",
       "    </tr>\n",
       "  </thead>\n",
       "  <tbody>\n",
       "    <tr>\n",
       "      <th>0</th>\n",
       "      <td>123952</td>\n",
       "      <td>Southern California Institute of Architecture</td>\n",
       "      <td>Los Angeles</td>\n",
       "      <td>CA</td>\n",
       "      <td>0</td>\n",
       "      <td>0</td>\n",
       "      <td>NaN</td>\n",
       "      <td>NaN</td>\n",
       "      <td>257.0</td>\n",
       "      <td>0.1479</td>\n",
       "      <td>...</td>\n",
       "      <td>0.1401</td>\n",
       "      <td>0.1362</td>\n",
       "      <td>0.0000</td>\n",
       "      <td>0.0039</td>\n",
       "      <td>0.0156</td>\n",
       "      <td>0.5525</td>\n",
       "      <td>0.0000</td>\n",
       "      <td>56404</td>\n",
       "      <td>43100</td>\n",
       "      <td>0.5327</td>\n",
       "    </tr>\n",
       "    <tr>\n",
       "      <th>1</th>\n",
       "      <td>111081</td>\n",
       "      <td>California Institute of the Arts</td>\n",
       "      <td>Valencia</td>\n",
       "      <td>CA</td>\n",
       "      <td>0</td>\n",
       "      <td>0</td>\n",
       "      <td>NaN</td>\n",
       "      <td>NaN</td>\n",
       "      <td>951.0</td>\n",
       "      <td>0.3975</td>\n",
       "      <td>...</td>\n",
       "      <td>0.1388</td>\n",
       "      <td>0.1136</td>\n",
       "      <td>0.0063</td>\n",
       "      <td>0.0021</td>\n",
       "      <td>0.0852</td>\n",
       "      <td>0.1514</td>\n",
       "      <td>0.0410</td>\n",
       "      <td>49256</td>\n",
       "      <td>37900</td>\n",
       "      <td>0.6109</td>\n",
       "    </tr>\n",
       "    <tr>\n",
       "      <th>2</th>\n",
       "      <td>458210</td>\n",
       "      <td>West Coast University-Orange County</td>\n",
       "      <td>Anaheim</td>\n",
       "      <td>CA</td>\n",
       "      <td>0</td>\n",
       "      <td>0</td>\n",
       "      <td>NaN</td>\n",
       "      <td>NaN</td>\n",
       "      <td>1869.0</td>\n",
       "      <td>0.2274</td>\n",
       "      <td>...</td>\n",
       "      <td>0.2022</td>\n",
       "      <td>0.4553</td>\n",
       "      <td>0.0027</td>\n",
       "      <td>0.0193</td>\n",
       "      <td>0.0284</td>\n",
       "      <td>0.0000</td>\n",
       "      <td>0.0235</td>\n",
       "      <td>47939</td>\n",
       "      <td>54900</td>\n",
       "      <td>0</td>\n",
       "    </tr>\n",
       "    <tr>\n",
       "      <th>3</th>\n",
       "      <td>109651</td>\n",
       "      <td>Art Center College of Design</td>\n",
       "      <td>Pasadena</td>\n",
       "      <td>CA</td>\n",
       "      <td>0</td>\n",
       "      <td>0</td>\n",
       "      <td>NaN</td>\n",
       "      <td>NaN</td>\n",
       "      <td>1897.0</td>\n",
       "      <td>0.1587</td>\n",
       "      <td>...</td>\n",
       "      <td>0.1223</td>\n",
       "      <td>0.3542</td>\n",
       "      <td>0.0032</td>\n",
       "      <td>0.0032</td>\n",
       "      <td>0.0438</td>\n",
       "      <td>0.2899</td>\n",
       "      <td>0.0100</td>\n",
       "      <td>46080</td>\n",
       "      <td>53600</td>\n",
       "      <td>0.7073</td>\n",
       "    </tr>\n",
       "    <tr>\n",
       "      <th>4</th>\n",
       "      <td>443331</td>\n",
       "      <td>West Coast University-Los Angeles</td>\n",
       "      <td>North Hollywood</td>\n",
       "      <td>CA</td>\n",
       "      <td>0</td>\n",
       "      <td>0</td>\n",
       "      <td>NaN</td>\n",
       "      <td>NaN</td>\n",
       "      <td>1556.0</td>\n",
       "      <td>0.3136</td>\n",
       "      <td>...</td>\n",
       "      <td>0.2224</td>\n",
       "      <td>0.3310</td>\n",
       "      <td>0.0045</td>\n",
       "      <td>0.0167</td>\n",
       "      <td>0.0424</td>\n",
       "      <td>0.0064</td>\n",
       "      <td>0.0334</td>\n",
       "      <td>45550</td>\n",
       "      <td>54900</td>\n",
       "      <td>0</td>\n",
       "    </tr>\n",
       "  </tbody>\n",
       "</table>\n",
       "<p>5 rows × 21 columns</p>\n",
       "</div>"
      ],
      "text/plain": [
       "       id                                           name             city  \\\n",
       "0  123952  Southern California Institute of Architecture      Los Angeles   \n",
       "1  111081               California Institute of the Arts         Valencia   \n",
       "2  458210            West Coast University-Orange County          Anaheim   \n",
       "3  109651                   Art Center College of Design         Pasadena   \n",
       "4  443331              West Coast University-Los Angeles  North Hollywood   \n",
       "\n",
       "  state  men_only  women_only  act_med  sat_avg  enrollment   white  ...  \\\n",
       "0    CA         0           0      NaN      NaN       257.0  0.1479  ...   \n",
       "1    CA         0           0      NaN      NaN       951.0  0.3975  ...   \n",
       "2    CA         0           0      NaN      NaN      1869.0  0.2274  ...   \n",
       "3    CA         0           0      NaN      NaN      1897.0  0.1587  ...   \n",
       "4    CA         0           0      NaN      NaN      1556.0  0.3136  ...   \n",
       "\n",
       "   hispanic   asian  american_native  pacific_islander  multiple_race  \\\n",
       "0    0.1401  0.1362           0.0000            0.0039         0.0156   \n",
       "1    0.1388  0.1136           0.0063            0.0021         0.0852   \n",
       "2    0.2022  0.4553           0.0027            0.0193         0.0284   \n",
       "3    0.1223  0.3542           0.0032            0.0032         0.0438   \n",
       "4    0.2224  0.3310           0.0045            0.0167         0.0424   \n",
       "\n",
       "   non_resident  unknown_race  tuition  postgrad_income_10yr completion_rate  \n",
       "0        0.5525        0.0000    56404                 43100          0.5327  \n",
       "1        0.1514        0.0410    49256                 37900          0.6109  \n",
       "2        0.0000        0.0235    47939                 54900               0  \n",
       "3        0.2899        0.0100    46080                 53600          0.7073  \n",
       "4        0.0064        0.0334    45550                 54900               0  \n",
       "\n",
       "[5 rows x 21 columns]"
      ]
     },
     "execution_count": 73,
     "metadata": {},
     "output_type": "execute_result"
    }
   ],
   "source": [
    "scores.head()"
   ]
  },
  {
   "cell_type": "code",
   "execution_count": 74,
   "metadata": {},
   "outputs": [
    {
     "name": "stdout",
     "output_type": "stream",
     "text": [
      "<class 'pandas.core.frame.DataFrame'>\n",
      "RangeIndex: 2326 entries, 0 to 2325\n",
      "Data columns (total 21 columns):\n",
      "id                      2326 non-null int64\n",
      "name                    2326 non-null object\n",
      "city                    2326 non-null object\n",
      "state                   2326 non-null object\n",
      "men_only                2326 non-null int64\n",
      "women_only              2326 non-null int64\n",
      "act_med                 1227 non-null float64\n",
      "sat_avg                 1249 non-null float64\n",
      "enrollment              2046 non-null float64\n",
      "white                   2046 non-null float64\n",
      "black                   2046 non-null float64\n",
      "hispanic                2046 non-null float64\n",
      "asian                   2046 non-null float64\n",
      "american_native         2046 non-null float64\n",
      "pacific_islander        2046 non-null float64\n",
      "multiple_race           2046 non-null float64\n",
      "non_resident            2046 non-null float64\n",
      "unknown_race            2046 non-null float64\n",
      "tuition                 2326 non-null int64\n",
      "postgrad_income_10yr    2069 non-null object\n",
      "completion_rate         1905 non-null object\n",
      "dtypes: float64(12), int64(4), object(5)\n",
      "memory usage: 336.2+ KB\n"
     ]
    }
   ],
   "source": [
    "scores.info()"
   ]
  },
  {
   "cell_type": "code",
   "execution_count": 75,
   "metadata": {},
   "outputs": [],
   "source": [
    "#Converting variables postgrad_income_10yr and completion_rate to Float to use in Mathematical Calculations\n",
    "scores.postgrad_income_10yr = scores.postgrad_income_10yr.astype(float)\n",
    "scores.completion_rate = scores.completion_rate.astype(float)"
   ]
  },
  {
   "cell_type": "code",
   "execution_count": 76,
   "metadata": {},
   "outputs": [
    {
     "data": {
      "text/html": [
       "<div>\n",
       "<style scoped>\n",
       "    .dataframe tbody tr th:only-of-type {\n",
       "        vertical-align: middle;\n",
       "    }\n",
       "\n",
       "    .dataframe tbody tr th {\n",
       "        vertical-align: top;\n",
       "    }\n",
       "\n",
       "    .dataframe thead th {\n",
       "        text-align: right;\n",
       "    }\n",
       "</style>\n",
       "<table border=\"1\" class=\"dataframe\">\n",
       "  <thead>\n",
       "    <tr style=\"text-align: right;\">\n",
       "      <th></th>\n",
       "      <th>id</th>\n",
       "      <th>name</th>\n",
       "      <th>city</th>\n",
       "      <th>state</th>\n",
       "      <th>men_only</th>\n",
       "      <th>women_only</th>\n",
       "      <th>act_med</th>\n",
       "      <th>sat_avg</th>\n",
       "      <th>enrollment</th>\n",
       "      <th>white</th>\n",
       "      <th>...</th>\n",
       "      <th>hispanic</th>\n",
       "      <th>asian</th>\n",
       "      <th>american_native</th>\n",
       "      <th>pacific_islander</th>\n",
       "      <th>multiple_race</th>\n",
       "      <th>non_resident</th>\n",
       "      <th>unknown_race</th>\n",
       "      <th>tuition</th>\n",
       "      <th>postgrad_income_10yr</th>\n",
       "      <th>completion_rate</th>\n",
       "    </tr>\n",
       "  </thead>\n",
       "  <tbody>\n",
       "    <tr>\n",
       "      <th>0</th>\n",
       "      <td>123952</td>\n",
       "      <td>Southern California Institute of Architecture</td>\n",
       "      <td>Los Angeles</td>\n",
       "      <td>CA</td>\n",
       "      <td>0</td>\n",
       "      <td>0</td>\n",
       "      <td>NaN</td>\n",
       "      <td>NaN</td>\n",
       "      <td>257.0</td>\n",
       "      <td>0.1479</td>\n",
       "      <td>...</td>\n",
       "      <td>0.1401</td>\n",
       "      <td>0.1362</td>\n",
       "      <td>0.0000</td>\n",
       "      <td>0.0039</td>\n",
       "      <td>0.0156</td>\n",
       "      <td>0.5525</td>\n",
       "      <td>0.0000</td>\n",
       "      <td>56404</td>\n",
       "      <td>43100.0</td>\n",
       "      <td>0.5327</td>\n",
       "    </tr>\n",
       "    <tr>\n",
       "      <th>1</th>\n",
       "      <td>111081</td>\n",
       "      <td>California Institute of the Arts</td>\n",
       "      <td>Valencia</td>\n",
       "      <td>CA</td>\n",
       "      <td>0</td>\n",
       "      <td>0</td>\n",
       "      <td>NaN</td>\n",
       "      <td>NaN</td>\n",
       "      <td>951.0</td>\n",
       "      <td>0.3975</td>\n",
       "      <td>...</td>\n",
       "      <td>0.1388</td>\n",
       "      <td>0.1136</td>\n",
       "      <td>0.0063</td>\n",
       "      <td>0.0021</td>\n",
       "      <td>0.0852</td>\n",
       "      <td>0.1514</td>\n",
       "      <td>0.0410</td>\n",
       "      <td>49256</td>\n",
       "      <td>37900.0</td>\n",
       "      <td>0.6109</td>\n",
       "    </tr>\n",
       "    <tr>\n",
       "      <th>2</th>\n",
       "      <td>458210</td>\n",
       "      <td>West Coast University-Orange County</td>\n",
       "      <td>Anaheim</td>\n",
       "      <td>CA</td>\n",
       "      <td>0</td>\n",
       "      <td>0</td>\n",
       "      <td>NaN</td>\n",
       "      <td>NaN</td>\n",
       "      <td>1869.0</td>\n",
       "      <td>0.2274</td>\n",
       "      <td>...</td>\n",
       "      <td>0.2022</td>\n",
       "      <td>0.4553</td>\n",
       "      <td>0.0027</td>\n",
       "      <td>0.0193</td>\n",
       "      <td>0.0284</td>\n",
       "      <td>0.0000</td>\n",
       "      <td>0.0235</td>\n",
       "      <td>47939</td>\n",
       "      <td>54900.0</td>\n",
       "      <td>0.0000</td>\n",
       "    </tr>\n",
       "    <tr>\n",
       "      <th>3</th>\n",
       "      <td>109651</td>\n",
       "      <td>Art Center College of Design</td>\n",
       "      <td>Pasadena</td>\n",
       "      <td>CA</td>\n",
       "      <td>0</td>\n",
       "      <td>0</td>\n",
       "      <td>NaN</td>\n",
       "      <td>NaN</td>\n",
       "      <td>1897.0</td>\n",
       "      <td>0.1587</td>\n",
       "      <td>...</td>\n",
       "      <td>0.1223</td>\n",
       "      <td>0.3542</td>\n",
       "      <td>0.0032</td>\n",
       "      <td>0.0032</td>\n",
       "      <td>0.0438</td>\n",
       "      <td>0.2899</td>\n",
       "      <td>0.0100</td>\n",
       "      <td>46080</td>\n",
       "      <td>53600.0</td>\n",
       "      <td>0.7073</td>\n",
       "    </tr>\n",
       "    <tr>\n",
       "      <th>4</th>\n",
       "      <td>443331</td>\n",
       "      <td>West Coast University-Los Angeles</td>\n",
       "      <td>North Hollywood</td>\n",
       "      <td>CA</td>\n",
       "      <td>0</td>\n",
       "      <td>0</td>\n",
       "      <td>NaN</td>\n",
       "      <td>NaN</td>\n",
       "      <td>1556.0</td>\n",
       "      <td>0.3136</td>\n",
       "      <td>...</td>\n",
       "      <td>0.2224</td>\n",
       "      <td>0.3310</td>\n",
       "      <td>0.0045</td>\n",
       "      <td>0.0167</td>\n",
       "      <td>0.0424</td>\n",
       "      <td>0.0064</td>\n",
       "      <td>0.0334</td>\n",
       "      <td>45550</td>\n",
       "      <td>54900.0</td>\n",
       "      <td>0.0000</td>\n",
       "    </tr>\n",
       "  </tbody>\n",
       "</table>\n",
       "<p>5 rows × 21 columns</p>\n",
       "</div>"
      ],
      "text/plain": [
       "       id                                           name             city  \\\n",
       "0  123952  Southern California Institute of Architecture      Los Angeles   \n",
       "1  111081               California Institute of the Arts         Valencia   \n",
       "2  458210            West Coast University-Orange County          Anaheim   \n",
       "3  109651                   Art Center College of Design         Pasadena   \n",
       "4  443331              West Coast University-Los Angeles  North Hollywood   \n",
       "\n",
       "  state  men_only  women_only  act_med  sat_avg  enrollment   white  ...  \\\n",
       "0    CA         0           0      NaN      NaN       257.0  0.1479  ...   \n",
       "1    CA         0           0      NaN      NaN       951.0  0.3975  ...   \n",
       "2    CA         0           0      NaN      NaN      1869.0  0.2274  ...   \n",
       "3    CA         0           0      NaN      NaN      1897.0  0.1587  ...   \n",
       "4    CA         0           0      NaN      NaN      1556.0  0.3136  ...   \n",
       "\n",
       "   hispanic   asian  american_native  pacific_islander  multiple_race  \\\n",
       "0    0.1401  0.1362           0.0000            0.0039         0.0156   \n",
       "1    0.1388  0.1136           0.0063            0.0021         0.0852   \n",
       "2    0.2022  0.4553           0.0027            0.0193         0.0284   \n",
       "3    0.1223  0.3542           0.0032            0.0032         0.0438   \n",
       "4    0.2224  0.3310           0.0045            0.0167         0.0424   \n",
       "\n",
       "   non_resident  unknown_race  tuition  postgrad_income_10yr  completion_rate  \n",
       "0        0.5525        0.0000    56404               43100.0           0.5327  \n",
       "1        0.1514        0.0410    49256               37900.0           0.6109  \n",
       "2        0.0000        0.0235    47939               54900.0           0.0000  \n",
       "3        0.2899        0.0100    46080               53600.0           0.7073  \n",
       "4        0.0064        0.0334    45550               54900.0           0.0000  \n",
       "\n",
       "[5 rows x 21 columns]"
      ]
     },
     "execution_count": 76,
     "metadata": {},
     "output_type": "execute_result"
    }
   ],
   "source": [
    "scores.head()"
   ]
  },
  {
   "cell_type": "code",
   "execution_count": 77,
   "metadata": {},
   "outputs": [
    {
     "data": {
      "text/html": [
       "<div>\n",
       "<style scoped>\n",
       "    .dataframe tbody tr th:only-of-type {\n",
       "        vertical-align: middle;\n",
       "    }\n",
       "\n",
       "    .dataframe tbody tr th {\n",
       "        vertical-align: top;\n",
       "    }\n",
       "\n",
       "    .dataframe thead th {\n",
       "        text-align: right;\n",
       "    }\n",
       "</style>\n",
       "<table border=\"1\" class=\"dataframe\">\n",
       "  <thead>\n",
       "    <tr style=\"text-align: right;\">\n",
       "      <th></th>\n",
       "      <th>count</th>\n",
       "      <th>mean</th>\n",
       "      <th>std</th>\n",
       "      <th>min</th>\n",
       "      <th>25%</th>\n",
       "      <th>50%</th>\n",
       "      <th>75%</th>\n",
       "      <th>max</th>\n",
       "    </tr>\n",
       "    <tr>\n",
       "      <th>state</th>\n",
       "      <th></th>\n",
       "      <th></th>\n",
       "      <th></th>\n",
       "      <th></th>\n",
       "      <th></th>\n",
       "      <th></th>\n",
       "      <th></th>\n",
       "      <th></th>\n",
       "    </tr>\n",
       "  </thead>\n",
       "  <tbody>\n",
       "    <tr>\n",
       "      <th>AK</th>\n",
       "      <td>1.0</td>\n",
       "      <td>1060.000000</td>\n",
       "      <td>NaN</td>\n",
       "      <td>1060.0</td>\n",
       "      <td>1060.00</td>\n",
       "      <td>1060.0</td>\n",
       "      <td>1060.00</td>\n",
       "      <td>1060.0</td>\n",
       "    </tr>\n",
       "    <tr>\n",
       "      <th>AL</th>\n",
       "      <td>23.0</td>\n",
       "      <td>1031.652174</td>\n",
       "      <td>125.527834</td>\n",
       "      <td>765.0</td>\n",
       "      <td>982.00</td>\n",
       "      <td>1013.0</td>\n",
       "      <td>1123.00</td>\n",
       "      <td>1257.0</td>\n",
       "    </tr>\n",
       "    <tr>\n",
       "      <th>AR</th>\n",
       "      <td>16.0</td>\n",
       "      <td>1057.875000</td>\n",
       "      <td>110.229987</td>\n",
       "      <td>845.0</td>\n",
       "      <td>996.50</td>\n",
       "      <td>1056.0</td>\n",
       "      <td>1120.75</td>\n",
       "      <td>1287.0</td>\n",
       "    </tr>\n",
       "    <tr>\n",
       "      <th>AZ</th>\n",
       "      <td>6.0</td>\n",
       "      <td>1082.833333</td>\n",
       "      <td>65.873869</td>\n",
       "      <td>963.0</td>\n",
       "      <td>1078.75</td>\n",
       "      <td>1085.0</td>\n",
       "      <td>1126.50</td>\n",
       "      <td>1147.0</td>\n",
       "    </tr>\n",
       "    <tr>\n",
       "      <th>CA</th>\n",
       "      <td>71.0</td>\n",
       "      <td>1113.859155</td>\n",
       "      <td>171.473638</td>\n",
       "      <td>870.0</td>\n",
       "      <td>985.00</td>\n",
       "      <td>1078.0</td>\n",
       "      <td>1235.00</td>\n",
       "      <td>1555.0</td>\n",
       "    </tr>\n",
       "  </tbody>\n",
       "</table>\n",
       "</div>"
      ],
      "text/plain": [
       "       count         mean         std     min      25%     50%      75%  \\\n",
       "state                                                                     \n",
       "AK       1.0  1060.000000         NaN  1060.0  1060.00  1060.0  1060.00   \n",
       "AL      23.0  1031.652174  125.527834   765.0   982.00  1013.0  1123.00   \n",
       "AR      16.0  1057.875000  110.229987   845.0   996.50  1056.0  1120.75   \n",
       "AZ       6.0  1082.833333   65.873869   963.0  1078.75  1085.0  1126.50   \n",
       "CA      71.0  1113.859155  171.473638   870.0   985.00  1078.0  1235.00   \n",
       "\n",
       "          max  \n",
       "state          \n",
       "AK     1060.0  \n",
       "AL     1257.0  \n",
       "AR     1287.0  \n",
       "AZ     1147.0  \n",
       "CA     1555.0  "
      ]
     },
     "execution_count": 77,
     "metadata": {},
     "output_type": "execute_result"
    }
   ],
   "source": [
    "#Analysis using groupby\n",
    "scores_state_group = scores.groupby('state')\n",
    "scores_state_group['sat_avg'].describe().head()\n",
    "\n",
    "#Here,the Average SAT scores have been grouped on the basis of state ,and all descriptive statistics have been calculated and displayed."
   ]
  },
  {
   "cell_type": "code",
   "execution_count": 78,
   "metadata": {},
   "outputs": [
    {
     "data": {
      "text/html": [
       "<div>\n",
       "<style scoped>\n",
       "    .dataframe tbody tr th:only-of-type {\n",
       "        vertical-align: middle;\n",
       "    }\n",
       "\n",
       "    .dataframe tbody tr th {\n",
       "        vertical-align: top;\n",
       "    }\n",
       "\n",
       "    .dataframe thead th {\n",
       "        text-align: right;\n",
       "    }\n",
       "</style>\n",
       "<table border=\"1\" class=\"dataframe\">\n",
       "  <thead>\n",
       "    <tr style=\"text-align: right;\">\n",
       "      <th></th>\n",
       "      <th>asian</th>\n",
       "    </tr>\n",
       "    <tr>\n",
       "      <th>state</th>\n",
       "      <th></th>\n",
       "    </tr>\n",
       "  </thead>\n",
       "  <tbody>\n",
       "    <tr>\n",
       "      <th>AK</th>\n",
       "      <td>0.037333</td>\n",
       "    </tr>\n",
       "    <tr>\n",
       "      <th>AL</th>\n",
       "      <td>0.041080</td>\n",
       "    </tr>\n",
       "    <tr>\n",
       "      <th>AR</th>\n",
       "      <td>0.034380</td>\n",
       "    </tr>\n",
       "    <tr>\n",
       "      <th>AZ</th>\n",
       "      <td>0.068000</td>\n",
       "    </tr>\n",
       "    <tr>\n",
       "      <th>CA</th>\n",
       "      <td>0.612280</td>\n",
       "    </tr>\n",
       "  </tbody>\n",
       "</table>\n",
       "</div>"
      ],
      "text/plain": [
       "          asian\n",
       "state          \n",
       "AK     0.037333\n",
       "AL     0.041080\n",
       "AR     0.034380\n",
       "AZ     0.068000\n",
       "CA     0.612280"
      ]
     },
     "execution_count": 78,
     "metadata": {},
     "output_type": "execute_result"
    }
   ],
   "source": [
    "######Custom Functions###\n",
    "\n",
    "## Creation of a function to calculate percentage of Asian Students for Each State\n",
    "def top_5_mean(series):\n",
    "    series_sorted = series.sort_values(ascending=False)\n",
    "    top_5 = series_sorted[:5]\n",
    "    mean_val = top_5[top_5 > 0].mean()\n",
    "\n",
    "    return mean_val\n",
    "\n",
    "scores_state_group.agg({'asian': top_5_mean}).head()"
   ]
  },
  {
   "cell_type": "code",
   "execution_count": 79,
   "metadata": {},
   "outputs": [
    {
     "data": {
      "text/plain": [
       "name\n",
       "Medical College of Wisconsin                            125000.0\n",
       "Oklahoma State University Center for Health Sciences    120950.0\n",
       "West Virginia School of Osteopathic Medicine            112150.0\n",
       "New York Medical College                                109750.0\n",
       "Icahn School of Medicine at Mount Sinai                 101400.0\n",
       "dtype: float64"
      ]
     },
     "execution_count": 79,
     "metadata": {},
     "output_type": "execute_result"
    }
   ],
   "source": [
    "###Custom Function ###\n",
    "#Top 5 Colleges which have best return of investment  -Average of low tuition and high post graduate income\n",
    "scores_name_group = scores.groupby('name')\n",
    "\n",
    "def roi_avg(group):\n",
    "\n",
    "    tuition_norm = group['tuition']\n",
    "\n",
    "    income_norm = group['postgrad_income_10yr']\n",
    "\n",
    "    norm_avg = (tuition_norm + income_norm) / 2\n",
    "    \n",
    "    top_5 = norm_avg.sort_values(ascending=False)[:5]\n",
    "    \n",
    "    top_5_mean = top_5[top_5 > 0].mean()\n",
    "\n",
    "    return top_5_mean\n",
    "\n",
    "avg_scores = scores_name_group.apply(roi_avg)\n",
    "avg_scores.sort_values(ascending=False).head()"
   ]
  },
  {
   "cell_type": "markdown",
   "metadata": {},
   "source": [
    "INSIGHTS USING PANDAS"
   ]
  },
  {
   "cell_type": "code",
   "execution_count": 81,
   "metadata": {},
   "outputs": [
    {
     "data": {
      "text/plain": [
       "38"
      ]
     },
     "execution_count": 81,
     "metadata": {},
     "output_type": "execute_result"
    }
   ],
   "source": [
    "#Total Number of Women Colleges\n",
    "scores['women_only'].sum()\n",
    "\n",
    "# Total Number of Women Only Colleges in the Country :38\n"
   ]
  },
  {
   "cell_type": "code",
   "execution_count": 17,
   "metadata": {},
   "outputs": [
    {
     "data": {
      "text/plain": [
       "'University of Phoenix-Arizona'"
      ]
     },
     "execution_count": 17,
     "metadata": {},
     "output_type": "execute_result"
    }
   ],
   "source": [
    "#College which has maximum enrollment\n",
    "scores.loc[scores['enrollment'].idxmax() ,'name']\n",
    "\n",
    "#College which has the maximum enrollment :University of Phoenix -Arizona"
   ]
  },
  {
   "cell_type": "code",
   "execution_count": 82,
   "metadata": {},
   "outputs": [
    {
     "data": {
      "text/html": [
       "<div>\n",
       "<style scoped>\n",
       "    .dataframe tbody tr th:only-of-type {\n",
       "        vertical-align: middle;\n",
       "    }\n",
       "\n",
       "    .dataframe tbody tr th {\n",
       "        vertical-align: top;\n",
       "    }\n",
       "\n",
       "    .dataframe thead th {\n",
       "        text-align: right;\n",
       "    }\n",
       "</style>\n",
       "<table border=\"1\" class=\"dataframe\">\n",
       "  <thead>\n",
       "    <tr style=\"text-align: right;\">\n",
       "      <th></th>\n",
       "      <th>name</th>\n",
       "      <th>tuition</th>\n",
       "      <th>state</th>\n",
       "    </tr>\n",
       "  </thead>\n",
       "  <tbody>\n",
       "    <tr>\n",
       "      <th>0</th>\n",
       "      <td>Southern California Institute of Architecture</td>\n",
       "      <td>56404</td>\n",
       "      <td>CA</td>\n",
       "    </tr>\n",
       "    <tr>\n",
       "      <th>1</th>\n",
       "      <td>California Institute of the Arts</td>\n",
       "      <td>49256</td>\n",
       "      <td>CA</td>\n",
       "    </tr>\n",
       "    <tr>\n",
       "      <th>2</th>\n",
       "      <td>West Coast University-Orange County</td>\n",
       "      <td>47939</td>\n",
       "      <td>CA</td>\n",
       "    </tr>\n",
       "    <tr>\n",
       "      <th>3</th>\n",
       "      <td>Art Center College of Design</td>\n",
       "      <td>46080</td>\n",
       "      <td>CA</td>\n",
       "    </tr>\n",
       "    <tr>\n",
       "      <th>4</th>\n",
       "      <td>West Coast University-Los Angeles</td>\n",
       "      <td>45550</td>\n",
       "      <td>CA</td>\n",
       "    </tr>\n",
       "  </tbody>\n",
       "</table>\n",
       "</div>"
      ],
      "text/plain": [
       "                                            name  tuition state\n",
       "0  Southern California Institute of Architecture    56404    CA\n",
       "1               California Institute of the Arts    49256    CA\n",
       "2            West Coast University-Orange County    47939    CA\n",
       "3                   Art Center College of Design    46080    CA\n",
       "4              West Coast University-Los Angeles    45550    CA"
      ]
     },
     "execution_count": 82,
     "metadata": {},
     "output_type": "execute_result"
    }
   ],
   "source": [
    "#Top 5 colleges which have highest tuition fees\n",
    "scores[['name','tuition','state']].sort_values('tuition', ascending=False).head(5)\n"
   ]
  },
  {
   "cell_type": "code",
   "execution_count": 19,
   "metadata": {},
   "outputs": [
    {
     "data": {
      "text/plain": [
       "1065.0336269015213"
      ]
     },
     "execution_count": 19,
     "metadata": {},
     "output_type": "execute_result"
    }
   ],
   "source": [
    "#Average SAT score for all the colleges\n",
    "scores['sat_avg'].mean()\n",
    "\n",
    "#Average SAT score for all the colleges throughout the country:1065"
   ]
  },
  {
   "cell_type": "code",
   "execution_count": 83,
   "metadata": {},
   "outputs": [
    {
     "data": {
      "text/plain": [
       "2138    Medical College of Wisconsin\n",
       "Name: name, dtype: object"
      ]
     },
     "execution_count": 83,
     "metadata": {},
     "output_type": "execute_result"
    }
   ],
   "source": [
    "#College with highest post graduation income\n",
    "max_income = scores['postgrad_income_10yr'].max()\n",
    "scores.loc[scores['postgrad_income_10yr'] == max_income ,'name']\n",
    "\n",
    "# Medical College of Wisconsin has the highest post graduate income"
   ]
  },
  {
   "cell_type": "markdown",
   "metadata": {},
   "source": [
    "UNIVARIATE PLOTS "
   ]
  },
  {
   "cell_type": "code",
   "execution_count": 21,
   "metadata": {},
   "outputs": [
    {
     "data": {
      "text/plain": [
       "<matplotlib.axes._subplots.AxesSubplot at 0xd0c130>"
      ]
     },
     "execution_count": 21,
     "metadata": {},
     "output_type": "execute_result"
    },
    {
     "data": {
      "image/png": "[encoded data removed]",
      "text/plain": [
       "<Figure size 432x288 with 1 Axes>"
      ]
     },
     "metadata": {
      "needs_background": "light"
     },
     "output_type": "display_data"
    }
   ],
   "source": [
    "#UNIVARIATE PLOT\n",
    "#How many are Male Only Colleges?\n",
    "sb.countplot(x='men_only', data=scores)\n",
    "\n",
    "# From the plot we see the count of Men only Colleges is much less than that of Non-Men Colleges. The total number of Men-Only colleges in the country:61\n"
   ]
  },
  {
   "cell_type": "code",
   "execution_count": 84,
   "metadata": {},
   "outputs": [
    {
     "data": {
      "text/plain": [
       "<matplotlib.axes._subplots.AxesSubplot at 0x10e07050>"
      ]
     },
     "execution_count": 84,
     "metadata": {},
     "output_type": "execute_result"
    },
    {
     "data": {
      "image/png": "[encoded data removed]",
      "text/plain": [
       "<Figure size 432x288 with 1 Axes>"
      ]
     },
     "metadata": {
      "needs_background": "light"
     },
     "output_type": "display_data"
    }
   ],
   "source": [
    "#UNIVARIATE PLOT\n",
    "#What is the distribution of completion rate ?\n",
    "sb.distplot(scores.loc[~scores['completion_rate'].isna(), 'completion_rate'])\n",
    "\n",
    "# From the plot , it can be gathered that the maximum completion rate is around 0.4 across US"
   ]
  },
  {
   "cell_type": "markdown",
   "metadata": {},
   "source": []
  },
  {
   "cell_type": "code",
   "execution_count": 36,
   "metadata": {},
   "outputs": [
    {
     "data": {
      "text/plain": [
       "<seaborn.axisgrid.FacetGrid at 0x1257e030>"
      ]
     },
     "execution_count": 36,
     "metadata": {},
     "output_type": "execute_result"
    },
    {
     "data": {
      "image/png": "[encoded data removed]",
      "text/plain": [
       "<Figure size 1800x360 with 1 Axes>"
      ]
     },
     "metadata": {
      "needs_background": "light"
     },
     "output_type": "display_data"
    }
   ],
   "source": [
    "## Univariate Plot\n",
    "##Count of Colleges in each state\n",
    "sb.catplot(x='state',data =scores,orient = 'h',kind= 'count',aspect = 5)\n",
    "\n",
    "# From the plot , we can see that the maximum number of colleges is in the state of New York.\n",
    "\n",
    "##Please Note: In case the graph is not visible, double click on the graph."
   ]
  },
  {
   "cell_type": "markdown",
   "metadata": {},
   "source": [
    "BIVARIATE PLOTS"
   ]
  },
  {
   "cell_type": "code",
   "execution_count": 85,
   "metadata": {},
   "outputs": [
    {
     "data": {
      "image/png": "[encoded data removed]",
      "text/plain": [
       "<Figure size 432x288 with 1 Axes>"
      ]
     },
     "metadata": {
      "needs_background": "light"
     },
     "output_type": "display_data"
    }
   ],
   "source": [
    "#BIVARIATE PLOT\n",
    "#Relationship between SAT & Post Graduate Income\n",
    "g = sb.scatterplot(x = 'sat_avg' ,y = 'postgrad_income_10yr',data = scores)\n",
    "\n",
    "#From the plot, it can be that there is a mostly increasing linear relationship between SAT scores and Post Graduate Income."
   ]
  },
  {
   "cell_type": "code",
   "execution_count": 9,
   "metadata": {},
   "outputs": [
    {
     "data": {
      "image/png": "[encoded data removed]",
      "text/plain": [
       "<Figure size 11664x216 with 54 Axes>"
      ]
     },
     "metadata": {
      "needs_background": "light"
     },
     "output_type": "display_data"
    }
   ],
   "source": [
    "#Bivariate Plot\n",
    "# Distribution of Non-Resident Student in each State\n",
    "scores['non_resident_data']  = scores['enrollment'] * scores['non_resident']\n",
    "g = sb.FacetGrid(scores, col = \"state\")\n",
    "g.map(plt.hist, \"non_resident_data\")\n",
    "plt.show()\n",
    "\n",
    "# We can see that state of New York has the highest number of Non - Resident Students , which will be true as the number of colleges is also the highest for NewYork.\n",
    "\n",
    "\n",
    "##Please Note: In case the graph is not visible, double click on the graph."
   ]
  },
  {
   "cell_type": "code",
   "execution_count": 66,
   "metadata": {},
   "outputs": [
    {
     "data": {
      "text/plain": [
       "[(500, 59224.2010842294)]"
      ]
     },
     "execution_count": 66,
     "metadata": {},
     "output_type": "execute_result"
    },
    {
     "data": {
      "image/png": "[encoded data removed]",
      "text/plain": [
       "<Figure size 432x288 with 1 Axes>"
      ]
     },
     "metadata": {
      "needs_background": "light"
     },
     "output_type": "display_data"
    }
   ],
   "source": [
    "##Multivariate Plot\n",
    "## Scatterplot describing the relationship between Tuition and 10 year Postgraduate Income base on enrollment\n",
    "g = sb.scatterplot(x = 'tuition' ,y = 'postgrad_income_10yr',hue = 'enrollment',data = scores)\n",
    "g.set(ylim=(500, None)) \n",
    "g.set(xlim=(500, None))\n",
    "\n",
    "## It can be inferred that the enrollment is highest where the tuition and post graduate income is at the higher end."
   ]
  },
  {
   "cell_type": "code",
   "execution_count": null,
   "metadata": {},
   "outputs": [],
   "source": [
    "## Conclusions: From the CollegeScore Card , it can be summarized that :\n",
    "##1.NewYork has the highest number of colleges and the out-of state students\n",
    "##2.Also trends suggest that ,as the SAT scores increases , the 10 year post graduate income increases. This should be true as higher ranked colleges require higher SAT scores but also provide better future oppurtunities.\n",
    "##3.There are a low number of Women-Only(38) and Men-Only Colleges(61) all across the country.\n",
    "##4.The college with the highest tuition is \"Southern California Institute of Architecture\"\n",
    "##5.College which has the maximum enrollment :University of Phoenix -Arizona\n",
    "##6.The highest average completion rate for all the colleges in the United States is around 0.4\n",
    "##7.Finally , trends suggest that relationship between tuition and 10 year Post Graduate Income is more concentrated in the tuition range of 10000-30000 and postgrad_income_10yr range of 25000-50000."
   ]
  }
 ],
 "metadata": {
  "kernelspec": {
   "display_name": "Python 3",
   "language": "python",
   "name": "python3"
  },
  "language_info": {
   "codemirror_mode": {
    "name": "ipython",
    "version": 3
   },
   "file_extension": ".py",
   "mimetype": "text/x-python",
   "name": "python",
   "nbconvert_exporter": "python",
   "pygments_lexer": "ipython3",
   "version": "3.7.2"
  }
 },
 "nbformat": 4,
 "nbformat_minor": 1
}
